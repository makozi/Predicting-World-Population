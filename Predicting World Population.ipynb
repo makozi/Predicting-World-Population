{
 "cells": [
  {
   "cell_type": "markdown",
   "metadata": {},
   "source": [
    "### Predicting the Future World Population"
   ]
  },
  {
   "cell_type": "markdown",
   "metadata": {},
   "source": [
    "In this project, we are looking to predict the future population of the world using the data from the past (1960 to 2018). This is achieved using the magic of machine learning and more specific, regression.\n",
    "\n",
    "The dataset for the total population  was taken from World Bank [World Bank](https://data.worldbank.org/indicator/SP.POP.TOTL) and will be in a [comma separated format (csv)](https://en.wikipedia.org/wiki/Comma-separated_values) comma separated format (csv). The project will be coded up in Python so knowledge of the pandas and scikit-learn packages will be required.\n",
    "\n",
    "Overall, our goal is to create a csv file of their future population up to 10 years away from now, into the file ‘future_world_population.csv’.\n",
    "\n",
    "\n",
    "#### Resource\n",
    "\n",
    "To begin, download the zip file below and extract out the csv file with the largest size, the ‘API_SP.POP.TOTL_DS2_en_csv_v2_103676.csv’ file. After putting the file in your directory it is better to rename it to something like ‘world_population.csv’ for convenience.\n",
    "\n",
    "- World Bank Total Population (csv) (1960 – 2018) ([Download Link](https://data.worldbank.org/indicator/SP.POP.TOTL))\n",
    "\n",
    "\n",
    "\n",
    "\n",
    "\n",
    "### Importing Packages\n",
    "\n",
    "We import the packages needed for the analysis and that is at the minimum the pandas and the scikit-learn. Matplotlib is used for all the data visualizations to draw questions about the data and to format the data if necessary while numpy is used in order to convert the data to numpy arrays and/or be reshaped into different dimensions."
   ]
  },
  {
   "cell_type": "code",
   "execution_count": 141,
   "metadata": {},
   "outputs": [],
   "source": [
    "import matplotlib.pyplot as plt\n",
    "from matplotlib.ticker import ScalarFormatter, FormatStrFormatter\n",
    "\n",
    "import pandas as pd\n",
    "import numpy as np\n",
    "from sklearn.linear_model import LinearRegression"
   ]
  },
  {
   "cell_type": "markdown",
   "metadata": {},
   "source": [
    "#### Loading the Data\n",
    "\n",
    "When the csv file is opened using Microsoft Excel, you will notice the  first four rows is not apart of the data. \n",
    "\n",
    "![csv](https://user-images.githubusercontent.com/18138100/63543591-0f1f2900-c51b-11e9-82d7-dd2f677d2fa5.PNG)\n",
    "\n",
    "Hence, when importing the csv file to pandas we can skip the first four rows."
   ]
  },
  {
   "cell_type": "code",
   "execution_count": 142,
   "metadata": {},
   "outputs": [
    {
     "data": {
      "text/html": [
       "<div>\n",
       "<style scoped>\n",
       "    .dataframe tbody tr th:only-of-type {\n",
       "        vertical-align: middle;\n",
       "    }\n",
       "\n",
       "    .dataframe tbody tr th {\n",
       "        vertical-align: top;\n",
       "    }\n",
       "\n",
       "    .dataframe thead th {\n",
       "        text-align: right;\n",
       "    }\n",
       "</style>\n",
       "<table border=\"1\" class=\"dataframe\">\n",
       "  <thead>\n",
       "    <tr style=\"text-align: right;\">\n",
       "      <th></th>\n",
       "      <th>Country Name</th>\n",
       "      <th>Country Code</th>\n",
       "      <th>Indicator Name</th>\n",
       "      <th>Indicator Code</th>\n",
       "      <th>1960</th>\n",
       "      <th>1961</th>\n",
       "      <th>1962</th>\n",
       "      <th>1963</th>\n",
       "      <th>1964</th>\n",
       "      <th>1965</th>\n",
       "      <th>...</th>\n",
       "      <th>2010</th>\n",
       "      <th>2011</th>\n",
       "      <th>2012</th>\n",
       "      <th>2013</th>\n",
       "      <th>2014</th>\n",
       "      <th>2015</th>\n",
       "      <th>2016</th>\n",
       "      <th>2017</th>\n",
       "      <th>2018</th>\n",
       "      <th>Unnamed: 63</th>\n",
       "    </tr>\n",
       "  </thead>\n",
       "  <tbody>\n",
       "    <tr>\n",
       "      <th>0</th>\n",
       "      <td>Aruba</td>\n",
       "      <td>ABW</td>\n",
       "      <td>Population, total</td>\n",
       "      <td>SP.POP.TOTL</td>\n",
       "      <td>54211.0</td>\n",
       "      <td>55438.0</td>\n",
       "      <td>56225.0</td>\n",
       "      <td>56695.0</td>\n",
       "      <td>57032.0</td>\n",
       "      <td>57360.0</td>\n",
       "      <td>...</td>\n",
       "      <td>101669.0</td>\n",
       "      <td>102046.0</td>\n",
       "      <td>102560.0</td>\n",
       "      <td>103159.0</td>\n",
       "      <td>103774.0</td>\n",
       "      <td>104341.0</td>\n",
       "      <td>104872.0</td>\n",
       "      <td>105366.0</td>\n",
       "      <td>105845.0</td>\n",
       "      <td>NaN</td>\n",
       "    </tr>\n",
       "    <tr>\n",
       "      <th>1</th>\n",
       "      <td>Afghanistan</td>\n",
       "      <td>AFG</td>\n",
       "      <td>Population, total</td>\n",
       "      <td>SP.POP.TOTL</td>\n",
       "      <td>8996973.0</td>\n",
       "      <td>9169410.0</td>\n",
       "      <td>9351441.0</td>\n",
       "      <td>9543205.0</td>\n",
       "      <td>9744781.0</td>\n",
       "      <td>9956320.0</td>\n",
       "      <td>...</td>\n",
       "      <td>29185507.0</td>\n",
       "      <td>30117413.0</td>\n",
       "      <td>31161376.0</td>\n",
       "      <td>32269589.0</td>\n",
       "      <td>33370794.0</td>\n",
       "      <td>34413603.0</td>\n",
       "      <td>35383128.0</td>\n",
       "      <td>36296400.0</td>\n",
       "      <td>37172386.0</td>\n",
       "      <td>NaN</td>\n",
       "    </tr>\n",
       "    <tr>\n",
       "      <th>2</th>\n",
       "      <td>Angola</td>\n",
       "      <td>AGO</td>\n",
       "      <td>Population, total</td>\n",
       "      <td>SP.POP.TOTL</td>\n",
       "      <td>5454933.0</td>\n",
       "      <td>5531472.0</td>\n",
       "      <td>5608539.0</td>\n",
       "      <td>5679458.0</td>\n",
       "      <td>5735044.0</td>\n",
       "      <td>5770570.0</td>\n",
       "      <td>...</td>\n",
       "      <td>23356246.0</td>\n",
       "      <td>24220661.0</td>\n",
       "      <td>25107931.0</td>\n",
       "      <td>26015780.0</td>\n",
       "      <td>26941779.0</td>\n",
       "      <td>27884381.0</td>\n",
       "      <td>28842484.0</td>\n",
       "      <td>29816748.0</td>\n",
       "      <td>30809762.0</td>\n",
       "      <td>NaN</td>\n",
       "    </tr>\n",
       "    <tr>\n",
       "      <th>3</th>\n",
       "      <td>Albania</td>\n",
       "      <td>ALB</td>\n",
       "      <td>Population, total</td>\n",
       "      <td>SP.POP.TOTL</td>\n",
       "      <td>1608800.0</td>\n",
       "      <td>1659800.0</td>\n",
       "      <td>1711319.0</td>\n",
       "      <td>1762621.0</td>\n",
       "      <td>1814135.0</td>\n",
       "      <td>1864791.0</td>\n",
       "      <td>...</td>\n",
       "      <td>2913021.0</td>\n",
       "      <td>2905195.0</td>\n",
       "      <td>2900401.0</td>\n",
       "      <td>2895092.0</td>\n",
       "      <td>2889104.0</td>\n",
       "      <td>2880703.0</td>\n",
       "      <td>2876101.0</td>\n",
       "      <td>2873457.0</td>\n",
       "      <td>2866376.0</td>\n",
       "      <td>NaN</td>\n",
       "    </tr>\n",
       "    <tr>\n",
       "      <th>4</th>\n",
       "      <td>Andorra</td>\n",
       "      <td>AND</td>\n",
       "      <td>Population, total</td>\n",
       "      <td>SP.POP.TOTL</td>\n",
       "      <td>13411.0</td>\n",
       "      <td>14375.0</td>\n",
       "      <td>15370.0</td>\n",
       "      <td>16412.0</td>\n",
       "      <td>17469.0</td>\n",
       "      <td>18549.0</td>\n",
       "      <td>...</td>\n",
       "      <td>84449.0</td>\n",
       "      <td>83747.0</td>\n",
       "      <td>82427.0</td>\n",
       "      <td>80774.0</td>\n",
       "      <td>79213.0</td>\n",
       "      <td>78011.0</td>\n",
       "      <td>77297.0</td>\n",
       "      <td>77001.0</td>\n",
       "      <td>77006.0</td>\n",
       "      <td>NaN</td>\n",
       "    </tr>\n",
       "  </tbody>\n",
       "</table>\n",
       "<p>5 rows × 64 columns</p>\n",
       "</div>"
      ],
      "text/plain": [
       "  Country Name Country Code     Indicator Name Indicator Code       1960  \\\n",
       "0        Aruba          ABW  Population, total    SP.POP.TOTL    54211.0   \n",
       "1  Afghanistan          AFG  Population, total    SP.POP.TOTL  8996973.0   \n",
       "2       Angola          AGO  Population, total    SP.POP.TOTL  5454933.0   \n",
       "3      Albania          ALB  Population, total    SP.POP.TOTL  1608800.0   \n",
       "4      Andorra          AND  Population, total    SP.POP.TOTL    13411.0   \n",
       "\n",
       "        1961       1962       1963       1964       1965  ...        2010  \\\n",
       "0    55438.0    56225.0    56695.0    57032.0    57360.0  ...    101669.0   \n",
       "1  9169410.0  9351441.0  9543205.0  9744781.0  9956320.0  ...  29185507.0   \n",
       "2  5531472.0  5608539.0  5679458.0  5735044.0  5770570.0  ...  23356246.0   \n",
       "3  1659800.0  1711319.0  1762621.0  1814135.0  1864791.0  ...   2913021.0   \n",
       "4    14375.0    15370.0    16412.0    17469.0    18549.0  ...     84449.0   \n",
       "\n",
       "         2011        2012        2013        2014        2015        2016  \\\n",
       "0    102046.0    102560.0    103159.0    103774.0    104341.0    104872.0   \n",
       "1  30117413.0  31161376.0  32269589.0  33370794.0  34413603.0  35383128.0   \n",
       "2  24220661.0  25107931.0  26015780.0  26941779.0  27884381.0  28842484.0   \n",
       "3   2905195.0   2900401.0   2895092.0   2889104.0   2880703.0   2876101.0   \n",
       "4     83747.0     82427.0     80774.0     79213.0     78011.0     77297.0   \n",
       "\n",
       "         2017        2018  Unnamed: 63  \n",
       "0    105366.0    105845.0          NaN  \n",
       "1  36296400.0  37172386.0          NaN  \n",
       "2  29816748.0  30809762.0          NaN  \n",
       "3   2873457.0   2866376.0          NaN  \n",
       "4     77001.0     77006.0          NaN  \n",
       "\n",
       "[5 rows x 64 columns]"
      ]
     },
     "execution_count": 142,
     "metadata": {},
     "output_type": "execute_result"
    }
   ],
   "source": [
    "pop= 'API_SP.POP.TOTL_DS2_en_csv_v2_103676.csv'\n",
    "df = pd.read_csv(pop, skiprows=4)\n",
    "\n",
    "df.head()"
   ]
  },
  {
   "cell_type": "markdown",
   "metadata": {},
   "source": [
    "### Data Cleaning"
   ]
  },
  {
   "cell_type": "markdown",
   "metadata": {},
   "source": [
    "We will clean the data in order to reduce the chance of errors. Here, we check which columns are useful and which are not."
   ]
  },
  {
   "cell_type": "code",
   "execution_count": 143,
   "metadata": {},
   "outputs": [
    {
     "name": "stdout",
     "output_type": "stream",
     "text": [
      "Index(['Country Name', 'Country Code', 'Indicator Name', 'Indicator Code',\n",
      "       '1960', '1961', '1962', '1963', '1964', '1965', '1966', '1967', '1968',\n",
      "       '1969', '1970', '1971', '1972', '1973', '1974', '1975', '1976', '1977',\n",
      "       '1978', '1979', '1980', '1981', '1982', '1983', '1984', '1985', '1986',\n",
      "       '1987', '1988', '1989', '1990', '1991', '1992', '1993', '1994', '1995',\n",
      "       '1996', '1997', '1998', '1999', '2000', '2001', '2002', '2003', '2004',\n",
      "       '2005', '2006', '2007', '2008', '2009', '2010', '2011', '2012', '2013',\n",
      "       '2014', '2015', '2016', '2017', '2018', 'Unnamed: 63'],\n",
      "      dtype='object')\n"
     ]
    }
   ],
   "source": [
    "print(df.columns)"
   ]
  },
  {
   "cell_type": "markdown",
   "metadata": {},
   "source": [
    "We will remove the features that do not help with the analysis and these are the `Country Code`, `Indicator Name`,`Indicator Code` and `Unnamed: 63`"
   ]
  },
  {
   "cell_type": "code",
   "execution_count": 144,
   "metadata": {},
   "outputs": [],
   "source": [
    "columns_to_drop=['Country Code', 'Indicator Name','Indicator Code', 'Unnamed: 63']\n",
    "df.drop(columns=columns_to_drop, inplace=True )"
   ]
  },
  {
   "cell_type": "markdown",
   "metadata": {},
   "source": [
    "The following columns remains in the dataframe:"
   ]
  },
  {
   "cell_type": "code",
   "execution_count": 145,
   "metadata": {},
   "outputs": [
    {
     "name": "stdout",
     "output_type": "stream",
     "text": [
      "Index(['Country Name', '1960', '1961', '1962', '1963', '1964', '1965', '1966',\n",
      "       '1967', '1968', '1969', '1970', '1971', '1972', '1973', '1974', '1975',\n",
      "       '1976', '1977', '1978', '1979', '1980', '1981', '1982', '1983', '1984',\n",
      "       '1985', '1986', '1987', '1988', '1989', '1990', '1991', '1992', '1993',\n",
      "       '1994', '1995', '1996', '1997', '1998', '1999', '2000', '2001', '2002',\n",
      "       '2003', '2004', '2005', '2006', '2007', '2008', '2009', '2010', '2011',\n",
      "       '2012', '2013', '2014', '2015', '2016', '2017', '2018'],\n",
      "      dtype='object')\n"
     ]
    }
   ],
   "source": [
    "print(df.columns)"
   ]
  },
  {
   "cell_type": "markdown",
   "metadata": {},
   "source": [
    "### Remaining Columns\n",
    "\n",
    "We will change the  the first column named `Country Name` to `Country`."
   ]
  },
  {
   "cell_type": "code",
   "execution_count": 146,
   "metadata": {},
   "outputs": [],
   "source": [
    "df.rename(columns={'Country Name': 'Country'}, inplace=True)"
   ]
  },
  {
   "cell_type": "code",
   "execution_count": 147,
   "metadata": {},
   "outputs": [
    {
     "name": "stdout",
     "output_type": "stream",
     "text": [
      "Index(['Country', '1960', '1961', '1962', '1963', '1964', '1965', '1966',\n",
      "       '1967', '1968', '1969', '1970', '1971', '1972', '1973', '1974', '1975',\n",
      "       '1976', '1977', '1978', '1979', '1980', '1981', '1982', '1983', '1984',\n",
      "       '1985', '1986', '1987', '1988', '1989', '1990', '1991', '1992', '1993',\n",
      "       '1994', '1995', '1996', '1997', '1998', '1999', '2000', '2001', '2002',\n",
      "       '2003', '2004', '2005', '2006', '2007', '2008', '2009', '2010', '2011',\n",
      "       '2012', '2013', '2014', '2015', '2016', '2017', '2018'],\n",
      "      dtype='object')\n"
     ]
    }
   ],
   "source": [
    "print(df.columns)"
   ]
  },
  {
   "cell_type": "markdown",
   "metadata": {},
   "source": [
    "### Checking and Removing NaN Rows"
   ]
  },
  {
   "cell_type": "markdown",
   "metadata": {},
   "source": [
    "Checking the numbers of NaN values in each columns"
   ]
  },
  {
   "cell_type": "code",
   "execution_count": 148,
   "metadata": {},
   "outputs": [
    {
     "name": "stdout",
     "output_type": "stream",
     "text": [
      "Country    0\n",
      "1960       4\n",
      "1961       4\n",
      "1962       4\n",
      "1963       4\n",
      "1964       4\n",
      "1965       4\n",
      "1966       4\n",
      "1967       4\n",
      "1968       4\n",
      "1969       4\n",
      "1970       4\n",
      "1971       4\n",
      "1972       4\n",
      "1973       4\n",
      "1974       4\n",
      "1975       4\n",
      "1976       4\n",
      "1977       4\n",
      "1978       4\n",
      "1979       4\n",
      "1980       4\n",
      "1981       4\n",
      "1982       4\n",
      "1983       4\n",
      "1984       4\n",
      "1985       4\n",
      "1986       4\n",
      "1987       4\n",
      "1988       4\n",
      "1989       4\n",
      "1990       2\n",
      "1991       2\n",
      "1992       3\n",
      "1993       3\n",
      "1994       3\n",
      "1995       2\n",
      "1996       2\n",
      "1997       2\n",
      "1998       1\n",
      "1999       1\n",
      "2000       1\n",
      "2001       1\n",
      "2002       1\n",
      "2003       1\n",
      "2004       1\n",
      "2005       1\n",
      "2006       1\n",
      "2007       1\n",
      "2008       1\n",
      "2009       1\n",
      "2010       1\n",
      "2011       1\n",
      "2012       2\n",
      "2013       2\n",
      "2014       2\n",
      "2015       2\n",
      "2016       2\n",
      "2017       2\n",
      "2018       2\n",
      "dtype: int64\n"
     ]
    }
   ],
   "source": [
    "print(df.isnull().sum())"
   ]
  },
  {
   "cell_type": "code",
   "execution_count": 149,
   "metadata": {},
   "outputs": [
    {
     "name": "stdout",
     "output_type": "stream",
     "text": [
      "                       Country       1960       1961       1962       1963  \\\n",
      "67                     Eritrea  1007590.0  1033328.0  1060486.0  1088854.0   \n",
      "108             Not classified        NaN        NaN        NaN        NaN   \n",
      "125                     Kuwait   269029.0   300576.0   337348.0   378746.0   \n",
      "194         West Bank and Gaza        NaN        NaN        NaN        NaN   \n",
      "212                     Serbia        NaN        NaN        NaN        NaN   \n",
      "223  Sint Maarten (Dutch part)        NaN        NaN        NaN        NaN   \n",
      "\n",
      "          1964       1965       1966       1967       1968  ...       2009  \\\n",
      "67   1118159.0  1148189.0  1178875.0  1210302.0  1242635.0  ...  3119920.0   \n",
      "108        NaN        NaN        NaN        NaN        NaN  ...        NaN   \n",
      "125   423898.0   472037.0   523166.0   577164.0   632899.0  ...  2821045.0   \n",
      "194        NaN        NaN        NaN        NaN        NaN  ...  3689099.0   \n",
      "212        NaN        NaN        NaN        NaN        NaN  ...  7320807.0   \n",
      "223        NaN        NaN        NaN        NaN        NaN  ...    34238.0   \n",
      "\n",
      "          2010       2011       2012       2013       2014       2015  \\\n",
      "67   3170435.0  3213972.0        NaN        NaN        NaN        NaN   \n",
      "108        NaN        NaN        NaN        NaN        NaN        NaN   \n",
      "125  2991884.0  3168060.0  3348853.0  3526378.0  3690942.0  3835591.0   \n",
      "194  3786161.0  3882986.0  3979998.0  4076708.0  4173398.0  4270092.0   \n",
      "212  7291436.0  7234099.0  7199077.0  7164132.0  7130576.0  7095383.0   \n",
      "223    34056.0    33435.0    34640.0    36607.0    37685.0    38825.0   \n",
      "\n",
      "          2016       2017       2018  \n",
      "67         NaN        NaN        NaN  \n",
      "108        NaN        NaN        NaN  \n",
      "125  3956873.0  4056097.0  4137309.0  \n",
      "194  4367088.0  4454805.0  4569087.0  \n",
      "212  7058322.0  7020858.0  6982084.0  \n",
      "223    39969.0    40574.0    40654.0  \n",
      "\n",
      "[6 rows x 60 columns]\n"
     ]
    }
   ],
   "source": [
    "print(df[df.isnull().T.any().T])"
   ]
  },
  {
   "cell_type": "markdown",
   "metadata": {},
   "source": [
    "We will remove the rows with NaN values before the machine learning state."
   ]
  },
  {
   "cell_type": "code",
   "execution_count": 150,
   "metadata": {},
   "outputs": [],
   "source": [
    "df.dropna(inplace=True)"
   ]
  },
  {
   "cell_type": "markdown",
   "metadata": {},
   "source": [
    "We will check to see that all the NaN values are removed."
   ]
  },
  {
   "cell_type": "code",
   "execution_count": 151,
   "metadata": {},
   "outputs": [
    {
     "name": "stdout",
     "output_type": "stream",
     "text": [
      "Country    0\n",
      "1960       0\n",
      "1961       0\n",
      "1962       0\n",
      "1963       0\n",
      "1964       0\n",
      "1965       0\n",
      "1966       0\n",
      "1967       0\n",
      "1968       0\n",
      "1969       0\n",
      "1970       0\n",
      "1971       0\n",
      "1972       0\n",
      "1973       0\n",
      "1974       0\n",
      "1975       0\n",
      "1976       0\n",
      "1977       0\n",
      "1978       0\n",
      "1979       0\n",
      "1980       0\n",
      "1981       0\n",
      "1982       0\n",
      "1983       0\n",
      "1984       0\n",
      "1985       0\n",
      "1986       0\n",
      "1987       0\n",
      "1988       0\n",
      "1989       0\n",
      "1990       0\n",
      "1991       0\n",
      "1992       0\n",
      "1993       0\n",
      "1994       0\n",
      "1995       0\n",
      "1996       0\n",
      "1997       0\n",
      "1998       0\n",
      "1999       0\n",
      "2000       0\n",
      "2001       0\n",
      "2002       0\n",
      "2003       0\n",
      "2004       0\n",
      "2005       0\n",
      "2006       0\n",
      "2007       0\n",
      "2008       0\n",
      "2009       0\n",
      "2010       0\n",
      "2011       0\n",
      "2012       0\n",
      "2013       0\n",
      "2014       0\n",
      "2015       0\n",
      "2016       0\n",
      "2017       0\n",
      "2018       0\n",
      "dtype: int64\n"
     ]
    }
   ],
   "source": [
    "print(df.isnull().sum())"
   ]
  },
  {
   "cell_type": "markdown",
   "metadata": {},
   "source": [
    "### Data Visualizations\n",
    "\n",
    "To get an idea about the data we are working with we can visualize the data. Let's get  the  population of Nigeria throughout the years.\n",
    "\n",
    "First, we fetch the tuple with the data for the population of Nigeria and plot a scatter plot."
   ]
  },
  {
   "cell_type": "code",
   "execution_count": 152,
   "metadata": {},
   "outputs": [
    {
     "data": {
      "image/png": "[encoded data removed]",
      "text/plain": [
       "<Figure size 432x288 with 1 Axes>"
      ]
     },
     "metadata": {
      "needs_background": "light"
     },
     "output_type": "display_data"
    }
   ],
   "source": [
    "\n",
    "record = df[df['Country'] == 'Nigeria'] # get the tuple with the Nigeria's population data\n",
    "years = record.columns.tolist()[1:] # get the years\n",
    "population = record.values.tolist()[0][1:] # get the population with respect to the year\n",
    "plt.scatter(years, population)  # plot scatter plot\n",
    "plt.plot(years, population) # line to connect the points)\n",
    "plt.xticks(rotation='vertical') # rotate x axis labels text to vertical inorder for it to show up and not cluster together\n",
    "plt.title('Nigeria\\'s population from 1960 to 2018') # set graph title\n",
    "plt.xlabel('Year') # set y axis label\n",
    "plt.ylabel('Total Population') # set y axis label\n",
    "\n",
    "plt.gca().yaxis.set_major_formatter(FormatStrFormatter('%.0f')) # turn of scientific notations\n",
    "plt.show() # display graph\n"
   ]
  },
  {
   "cell_type": "markdown",
   "metadata": {},
   "source": [
    "Here, we can see that since 1960's, Nigeria's population has been increasing  rapidly."
   ]
  },
  {
   "cell_type": "markdown",
   "metadata": {},
   "source": [
    "\n",
    "\n",
    "\n",
    "### Predicting the Future World Population\n",
    "\n",
    "We will predict the population of every country for up to 10 years into the future. Since, we want to predict the future populations for each country we must make a list to iterate through each country. We will create a temporary dataframe to store the new future population data."
   ]
  },
  {
   "cell_type": "code",
   "execution_count": 153,
   "metadata": {},
   "outputs": [],
   "source": [
    "countries= df['Country'].tolist()\n",
    "temp_df= pd.DataFrame()\n",
    "\n",
    "for country in countries:\n",
    "        # prepare data for the model\n",
    "        record = df[df['Country'] == country].drop(['Country'], axis=1)\n",
    "        record = record.T\n",
    "        record.reset_index(inplace=True)\n",
    "        record.columns = ['Year', 'Population']\n",
    "        X = record['Year']\n",
    "        Y = record['Population']"
   ]
  },
  {
   "cell_type": "markdown",
   "metadata": {},
   "source": [
    "This will allow us to train the model for each country's population data:"
   ]
  },
  {
   "cell_type": "code",
   "execution_count": 154,
   "metadata": {},
   "outputs": [
    {
     "data": {
      "text/plain": [
       "LinearRegression(copy_X=True, fit_intercept=True, n_jobs=None, normalize=False)"
      ]
     },
     "execution_count": 154,
     "metadata": {},
     "output_type": "execute_result"
    }
   ],
   "source": [
    "regressor = LinearRegression()\n",
    "regressor.fit(np.array(X).reshape(-1,1), Y)\n"
   ]
  },
  {
   "cell_type": "code",
   "execution_count": 155,
   "metadata": {},
   "outputs": [],
   "source": [
    " # predict future population with respective year and add back to current record\n",
    "for year in range(2019,2030):\n",
    "        future_population = round(regressor.predict(np.array([year]).reshape(-1,1))[0])\n",
    "        row = pd.DataFrame([[year,future_population]], columns=['Year','Population'])\n",
    "        record = record.append(row, ignore_index=True)\n"
   ]
  },
  {
   "cell_type": "code",
   "execution_count": 156,
   "metadata": {},
   "outputs": [],
   "source": [
    "# change narrow dataframe back to a wide one\n",
    "record = record.T\n",
    "new_header = record.iloc[0]\n",
    "record = record[1:]\n",
    "record.columns = new_header\n",
    "record.columns.name = None\n",
    "record.index = [country]\n",
    "temp_df = pd.concat([temp_df, record])"
   ]
  },
  {
   "cell_type": "markdown",
   "metadata": {},
   "source": [
    "Once the for loop completes we can export the new main dataframe into a csv file as we planned earlier."
   ]
  },
  {
   "cell_type": "code",
   "execution_count": 164,
   "metadata": {},
   "outputs": [],
   "source": [
    "# setting new dataframe instead of the original\n",
    "df = temp_df\n",
    "df.to_csv('Future_World_Population.csv')\n"
   ]
  },
  {
   "cell_type": "code",
   "execution_count": null,
   "metadata": {},
   "outputs": [],
   "source": []
  }
 ],
 "metadata": {
  "kernelspec": {
   "display_name": "Python 3",
   "language": "python",
   "name": "python3"
  },
  "language_info": {
   "codemirror_mode": {
    "name": "ipython",
    "version": 3
   },
   "file_extension": ".py",
   "mimetype": "text/x-python",
   "name": "python",
   "nbconvert_exporter": "python",
   "pygments_lexer": "ipython3",
   "version": "3.7.3"
  }
 },
 "nbformat": 4,
 "nbformat_minor": 2
}
